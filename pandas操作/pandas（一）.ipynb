{
 "cells": [
  {
   "cell_type": "markdown",
   "metadata": {},
   "source": [
    "### pandas读取文件"
   ]
  },
  {
   "cell_type": "markdown",
   "metadata": {},
   "source": [
    "##### 读取csv文件"
   ]
  },
  {
   "cell_type": "code",
   "execution_count": 4,
   "metadata": {},
   "outputs": [],
   "source": [
    "import pandas as pd"
   ]
  },
  {
   "cell_type": "code",
   "execution_count": 9,
   "metadata": {},
   "outputs": [],
   "source": [
    "#读取csv文件\n",
    "fpath=\"test.csv\"\n",
    "df=pd.read_csv(fpath,encoding='gbk')"
   ]
  },
  {
   "cell_type": "code",
   "execution_count": 10,
   "metadata": {},
   "outputs": [
    {
     "data": {
      "text/html": [
       "<div>\n",
       "<style scoped>\n",
       "    .dataframe tbody tr th:only-of-type {\n",
       "        vertical-align: middle;\n",
       "    }\n",
       "\n",
       "    .dataframe tbody tr th {\n",
       "        vertical-align: top;\n",
       "    }\n",
       "\n",
       "    .dataframe thead th {\n",
       "        text-align: right;\n",
       "    }\n",
       "</style>\n",
       "<table border=\"1\" class=\"dataframe\">\n",
       "  <thead>\n",
       "    <tr style=\"text-align: right;\">\n",
       "      <th></th>\n",
       "      <th>编号</th>\n",
       "      <th>操作方式</th>\n",
       "      <th>催化剂总质量（mg）</th>\n",
       "      <th>HAP:Co/SiO2</th>\n",
       "      <th>Co/SiO2（wt%）</th>\n",
       "      <th>乙醇浓度（ml/min）</th>\n",
       "      <th>温度</th>\n",
       "      <th>乙醇转化率（%）</th>\n",
       "      <th>乙烯选择性（%）</th>\n",
       "      <th>C4烯烃选择性（%）</th>\n",
       "      <th>乙醛选择性（%）</th>\n",
       "      <th>碳数为4-12脂肪醇选择性（%）</th>\n",
       "      <th>甲基苯甲醛和甲基苯甲醇选择性（%）</th>\n",
       "      <th>其他生成物的选择性（%）</th>\n",
       "      <th>C4烯烃收率（乙醇转化率*C4烯烃选择性）</th>\n",
       "    </tr>\n",
       "  </thead>\n",
       "  <tbody>\n",
       "    <tr>\n",
       "      <th>0</th>\n",
       "      <td>1</td>\n",
       "      <td>1</td>\n",
       "      <td>400</td>\n",
       "      <td>1.0</td>\n",
       "      <td>1.0</td>\n",
       "      <td>1.68</td>\n",
       "      <td>250</td>\n",
       "      <td>2.07</td>\n",
       "      <td>1.17</td>\n",
       "      <td>34.05</td>\n",
       "      <td>2.41</td>\n",
       "      <td>52.59</td>\n",
       "      <td>0.00</td>\n",
       "      <td>9.78</td>\n",
       "      <td>0.703871</td>\n",
       "    </tr>\n",
       "    <tr>\n",
       "      <th>1</th>\n",
       "      <td>1</td>\n",
       "      <td>1</td>\n",
       "      <td>400</td>\n",
       "      <td>1.0</td>\n",
       "      <td>1.0</td>\n",
       "      <td>1.68</td>\n",
       "      <td>275</td>\n",
       "      <td>5.85</td>\n",
       "      <td>1.63</td>\n",
       "      <td>37.43</td>\n",
       "      <td>1.42</td>\n",
       "      <td>53.21</td>\n",
       "      <td>0.00</td>\n",
       "      <td>6.31</td>\n",
       "      <td>2.190299</td>\n",
       "    </tr>\n",
       "    <tr>\n",
       "      <th>2</th>\n",
       "      <td>1</td>\n",
       "      <td>1</td>\n",
       "      <td>400</td>\n",
       "      <td>1.0</td>\n",
       "      <td>1.0</td>\n",
       "      <td>1.68</td>\n",
       "      <td>300</td>\n",
       "      <td>14.97</td>\n",
       "      <td>3.02</td>\n",
       "      <td>46.94</td>\n",
       "      <td>4.71</td>\n",
       "      <td>35.16</td>\n",
       "      <td>1.00</td>\n",
       "      <td>9.17</td>\n",
       "      <td>7.026398</td>\n",
       "    </tr>\n",
       "    <tr>\n",
       "      <th>3</th>\n",
       "      <td>1</td>\n",
       "      <td>1</td>\n",
       "      <td>400</td>\n",
       "      <td>1.0</td>\n",
       "      <td>1.0</td>\n",
       "      <td>1.68</td>\n",
       "      <td>325</td>\n",
       "      <td>19.68</td>\n",
       "      <td>7.97</td>\n",
       "      <td>49.70</td>\n",
       "      <td>14.69</td>\n",
       "      <td>15.16</td>\n",
       "      <td>2.13</td>\n",
       "      <td>10.35</td>\n",
       "      <td>9.781635</td>\n",
       "    </tr>\n",
       "    <tr>\n",
       "      <th>4</th>\n",
       "      <td>1</td>\n",
       "      <td>1</td>\n",
       "      <td>400</td>\n",
       "      <td>1.0</td>\n",
       "      <td>1.0</td>\n",
       "      <td>1.68</td>\n",
       "      <td>350</td>\n",
       "      <td>36.80</td>\n",
       "      <td>12.46</td>\n",
       "      <td>47.21</td>\n",
       "      <td>18.66</td>\n",
       "      <td>9.22</td>\n",
       "      <td>1.69</td>\n",
       "      <td>10.76</td>\n",
       "      <td>17.373760</td>\n",
       "    </tr>\n",
       "  </tbody>\n",
       "</table>\n",
       "</div>"
      ],
      "text/plain": [
       "   编号  操作方式  催化剂总质量（mg）  HAP:Co/SiO2  Co/SiO2（wt%）  乙醇浓度（ml/min）   温度  \\\n",
       "0   1     1         400          1.0           1.0          1.68  250   \n",
       "1   1     1         400          1.0           1.0          1.68  275   \n",
       "2   1     1         400          1.0           1.0          1.68  300   \n",
       "3   1     1         400          1.0           1.0          1.68  325   \n",
       "4   1     1         400          1.0           1.0          1.68  350   \n",
       "\n",
       "   乙醇转化率（%）  乙烯选择性（%）  C4烯烃选择性（%）  乙醛选择性（%）  碳数为4-12脂肪醇选择性（%）  \\\n",
       "0      2.07      1.17       34.05      2.41             52.59   \n",
       "1      5.85      1.63       37.43      1.42             53.21   \n",
       "2     14.97      3.02       46.94      4.71             35.16   \n",
       "3     19.68      7.97       49.70     14.69             15.16   \n",
       "4     36.80     12.46       47.21     18.66              9.22   \n",
       "\n",
       "   甲基苯甲醛和甲基苯甲醇选择性（%）  其他生成物的选择性（%）  C4烯烃收率（乙醇转化率*C4烯烃选择性）  \n",
       "0               0.00          9.78               0.703871  \n",
       "1               0.00          6.31               2.190299  \n",
       "2               1.00          9.17               7.026398  \n",
       "3               2.13         10.35               9.781635  \n",
       "4               1.69         10.76              17.373760  "
      ]
     },
     "execution_count": 10,
     "metadata": {},
     "output_type": "execute_result"
    }
   ],
   "source": [
    "#查看前几行\n",
    "df.head()"
   ]
  },
  {
   "cell_type": "code",
   "execution_count": 12,
   "metadata": {},
   "outputs": [
    {
     "data": {
      "text/plain": [
       "(114, 15)"
      ]
     },
     "execution_count": 12,
     "metadata": {},
     "output_type": "execute_result"
    }
   ],
   "source": [
    "#查看形状\n",
    "df.shape"
   ]
  },
  {
   "cell_type": "code",
   "execution_count": 14,
   "metadata": {},
   "outputs": [
    {
     "data": {
      "text/plain": [
       "Index(['编号', '操作方式', '催化剂总质量（mg）', 'HAP:Co/SiO2', 'Co/SiO2（wt%）',\n",
       "       '乙醇浓度（ml/min）', '温度', '乙醇转化率（%）', '乙烯选择性（%）', 'C4烯烃选择性（%）', '乙醛选择性（%）',\n",
       "       '碳数为4-12脂肪醇选择性（%）', '甲基苯甲醛和甲基苯甲醇选择性（%）', '其他生成物的选择性（%）',\n",
       "       'C4烯烃收率（乙醇转化率*C4烯烃选择性）'],\n",
       "      dtype='object')"
      ]
     },
     "execution_count": 14,
     "metadata": {},
     "output_type": "execute_result"
    }
   ],
   "source": [
    "#查看属性\n",
    "df.columns"
   ]
  },
  {
   "cell_type": "code",
   "execution_count": 15,
   "metadata": {},
   "outputs": [
    {
     "data": {
      "text/plain": [
       "RangeIndex(start=0, stop=114, step=1)"
      ]
     },
     "execution_count": 15,
     "metadata": {},
     "output_type": "execute_result"
    }
   ],
   "source": [
    "#查看索引\n",
    "df.index"
   ]
  },
  {
   "cell_type": "markdown",
   "metadata": {},
   "source": [
    "##### 读取txt文件"
   ]
  },
  {
   "cell_type": "code",
   "execution_count": 19,
   "metadata": {},
   "outputs": [],
   "source": [
    "#当header=None即没有标题时可以手动指定names=\n",
    "fpath='book.txt'\n",
    "df=pd.read_csv(fpath,\n",
    "              sep=\"\\t\",\n",
    "              #header=True,\n",
    "              #names=['x','y','z']\n",
    "              )"
   ]
  },
  {
   "cell_type": "code",
   "execution_count": 24,
   "metadata": {},
   "outputs": [
    {
     "data": {
      "text/html": [
       "<div>\n",
       "<style scoped>\n",
       "    .dataframe tbody tr th:only-of-type {\n",
       "        vertical-align: middle;\n",
       "    }\n",
       "\n",
       "    .dataframe tbody tr th {\n",
       "        vertical-align: top;\n",
       "    }\n",
       "\n",
       "    .dataframe thead th {\n",
       "        text-align: right;\n",
       "    }\n",
       "</style>\n",
       "<table border=\"1\" class=\"dataframe\">\n",
       "  <thead>\n",
       "    <tr style=\"text-align: right;\">\n",
       "      <th></th>\n",
       "      <th>序号      书名                                                      分类</th>\n",
       "    </tr>\n",
       "  </thead>\n",
       "  <tbody>\n",
       "    <tr>\n",
       "      <th>0</th>\n",
       "      <td>1         HTML5+CSS3+JavaScript从入门到精通（标准版）    ...</td>\n",
       "    </tr>\n",
       "    <tr>\n",
       "      <th>1</th>\n",
       "      <td>2         JavaWeb项目开发实战入门（全彩版）                ...</td>\n",
       "    </tr>\n",
       "    <tr>\n",
       "      <th>2</th>\n",
       "      <td>3         案例学WEB前端开发                          ...</td>\n",
       "    </tr>\n",
       "    <tr>\n",
       "      <th>3</th>\n",
       "      <td>4         一看就停不下来的中国史                         ...</td>\n",
       "    </tr>\n",
       "    <tr>\n",
       "      <th>4</th>\n",
       "      <td>5         显微镜下的大明                             ...</td>\n",
       "    </tr>\n",
       "    <tr>\n",
       "      <th>5</th>\n",
       "      <td>​                                             ...</td>\n",
       "    </tr>\n",
       "  </tbody>\n",
       "</table>\n",
       "</div>"
      ],
      "text/plain": [
       "  序号      书名                                                      分类\n",
       "0  1         HTML5+CSS3+JavaScript从入门到精通（标准版）    ...                \n",
       "1  2         JavaWeb项目开发实战入门（全彩版）                ...                \n",
       "2  3         案例学WEB前端开发                          ...                \n",
       "3  4         一看就停不下来的中国史                         ...                \n",
       "4  5         显微镜下的大明                             ...                \n",
       "5  ​                                             ...                "
      ]
     },
     "execution_count": 24,
     "metadata": {},
     "output_type": "execute_result"
    }
   ],
   "source": [
    "df"
   ]
  },
  {
   "cell_type": "markdown",
   "metadata": {},
   "source": [
    "##### 读取excel文件"
   ]
  },
  {
   "cell_type": "code",
   "execution_count": 27,
   "metadata": {},
   "outputs": [],
   "source": [
    "fpath='test.xlsx'\n",
    "df=pd.read_excel(fpath)"
   ]
  },
  {
   "cell_type": "code",
   "execution_count": 30,
   "metadata": {},
   "outputs": [
    {
     "data": {
      "text/html": [
       "<div>\n",
       "<style scoped>\n",
       "    .dataframe tbody tr th:only-of-type {\n",
       "        vertical-align: middle;\n",
       "    }\n",
       "\n",
       "    .dataframe tbody tr th {\n",
       "        vertical-align: top;\n",
       "    }\n",
       "\n",
       "    .dataframe thead th {\n",
       "        text-align: right;\n",
       "    }\n",
       "</style>\n",
       "<table border=\"1\" class=\"dataframe\">\n",
       "  <thead>\n",
       "    <tr style=\"text-align: right;\">\n",
       "      <th></th>\n",
       "      <th>编号</th>\n",
       "      <th>操作方式</th>\n",
       "      <th>催化剂总质量（mg）</th>\n",
       "      <th>HAP:Co/SiO2</th>\n",
       "      <th>Co/SiO2（wt%）</th>\n",
       "      <th>乙醇浓度（ml/min）</th>\n",
       "      <th>温度</th>\n",
       "      <th>乙醇转化率（%）</th>\n",
       "      <th>乙烯选择性（%）</th>\n",
       "      <th>C4烯烃选择性（%）</th>\n",
       "      <th>乙醛选择性（%）</th>\n",
       "      <th>碳数为4-12脂肪醇选择性（%）</th>\n",
       "      <th>甲基苯甲醛和甲基苯甲醇选择性（%）</th>\n",
       "      <th>其他生成物的选择性（%）</th>\n",
       "      <th>C4烯烃收率（乙醇转化率*C4烯烃选择性）</th>\n",
       "    </tr>\n",
       "  </thead>\n",
       "  <tbody>\n",
       "    <tr>\n",
       "      <th>0</th>\n",
       "      <td>1</td>\n",
       "      <td>1</td>\n",
       "      <td>400</td>\n",
       "      <td>1.0</td>\n",
       "      <td>1.0</td>\n",
       "      <td>1.68</td>\n",
       "      <td>250</td>\n",
       "      <td>2.067169</td>\n",
       "      <td>1.17</td>\n",
       "      <td>34.05</td>\n",
       "      <td>2.41</td>\n",
       "      <td>52.59</td>\n",
       "      <td>0.00</td>\n",
       "      <td>9.78</td>\n",
       "      <td>0.703871</td>\n",
       "    </tr>\n",
       "    <tr>\n",
       "      <th>1</th>\n",
       "      <td>1</td>\n",
       "      <td>1</td>\n",
       "      <td>400</td>\n",
       "      <td>1.0</td>\n",
       "      <td>1.0</td>\n",
       "      <td>1.68</td>\n",
       "      <td>275</td>\n",
       "      <td>5.851721</td>\n",
       "      <td>1.63</td>\n",
       "      <td>37.43</td>\n",
       "      <td>1.42</td>\n",
       "      <td>53.21</td>\n",
       "      <td>0.00</td>\n",
       "      <td>6.31</td>\n",
       "      <td>2.190299</td>\n",
       "    </tr>\n",
       "    <tr>\n",
       "      <th>2</th>\n",
       "      <td>1</td>\n",
       "      <td>1</td>\n",
       "      <td>400</td>\n",
       "      <td>1.0</td>\n",
       "      <td>1.0</td>\n",
       "      <td>1.68</td>\n",
       "      <td>300</td>\n",
       "      <td>14.968891</td>\n",
       "      <td>3.02</td>\n",
       "      <td>46.94</td>\n",
       "      <td>4.71</td>\n",
       "      <td>35.16</td>\n",
       "      <td>1.00</td>\n",
       "      <td>9.17</td>\n",
       "      <td>7.026398</td>\n",
       "    </tr>\n",
       "    <tr>\n",
       "      <th>3</th>\n",
       "      <td>1</td>\n",
       "      <td>1</td>\n",
       "      <td>400</td>\n",
       "      <td>1.0</td>\n",
       "      <td>1.0</td>\n",
       "      <td>1.68</td>\n",
       "      <td>325</td>\n",
       "      <td>19.681359</td>\n",
       "      <td>7.97</td>\n",
       "      <td>49.70</td>\n",
       "      <td>14.69</td>\n",
       "      <td>15.16</td>\n",
       "      <td>2.13</td>\n",
       "      <td>10.35</td>\n",
       "      <td>9.781635</td>\n",
       "    </tr>\n",
       "    <tr>\n",
       "      <th>4</th>\n",
       "      <td>1</td>\n",
       "      <td>1</td>\n",
       "      <td>400</td>\n",
       "      <td>1.0</td>\n",
       "      <td>1.0</td>\n",
       "      <td>1.68</td>\n",
       "      <td>350</td>\n",
       "      <td>36.801017</td>\n",
       "      <td>12.46</td>\n",
       "      <td>47.21</td>\n",
       "      <td>18.66</td>\n",
       "      <td>9.22</td>\n",
       "      <td>1.69</td>\n",
       "      <td>10.76</td>\n",
       "      <td>17.373760</td>\n",
       "    </tr>\n",
       "  </tbody>\n",
       "</table>\n",
       "</div>"
      ],
      "text/plain": [
       "   编号  操作方式  催化剂总质量（mg）  HAP:Co/SiO2  Co/SiO2（wt%）  乙醇浓度（ml/min）   温度  \\\n",
       "0   1     1         400          1.0           1.0          1.68  250   \n",
       "1   1     1         400          1.0           1.0          1.68  275   \n",
       "2   1     1         400          1.0           1.0          1.68  300   \n",
       "3   1     1         400          1.0           1.0          1.68  325   \n",
       "4   1     1         400          1.0           1.0          1.68  350   \n",
       "\n",
       "    乙醇转化率（%）  乙烯选择性（%）  C4烯烃选择性（%）  乙醛选择性（%）  碳数为4-12脂肪醇选择性（%）  \\\n",
       "0   2.067169      1.17       34.05      2.41             52.59   \n",
       "1   5.851721      1.63       37.43      1.42             53.21   \n",
       "2  14.968891      3.02       46.94      4.71             35.16   \n",
       "3  19.681359      7.97       49.70     14.69             15.16   \n",
       "4  36.801017     12.46       47.21     18.66              9.22   \n",
       "\n",
       "   甲基苯甲醛和甲基苯甲醇选择性（%）  其他生成物的选择性（%）  C4烯烃收率（乙醇转化率*C4烯烃选择性）  \n",
       "0               0.00          9.78               0.703871  \n",
       "1               0.00          6.31               2.190299  \n",
       "2               1.00          9.17               7.026398  \n",
       "3               2.13         10.35               9.781635  \n",
       "4               1.69         10.76              17.373760  "
      ]
     },
     "execution_count": 30,
     "metadata": {},
     "output_type": "execute_result"
    }
   ],
   "source": [
    "df.head()"
   ]
  },
  {
   "cell_type": "markdown",
   "metadata": {},
   "source": [
    "##### 读取mysql表"
   ]
  },
  {
   "cell_type": "code",
   "execution_count": null,
   "metadata": {},
   "outputs": [],
   "source": [
    "#此处只给出范例，请连接自己的数据库再使用\n",
    "import pymssql\n",
    "#连接信息\n",
    "con=pymssql.connect(host='127.0.0.1',\n",
    "                   user='root',\n",
    "                   password='1234567',\n",
    "                   database='test',\n",
    "                   charset='utf-8'\n",
    "                   )"
   ]
  },
  {
   "cell_type": "code",
   "execution_count": null,
   "metadata": {},
   "outputs": [],
   "source": [
    "#sql语句+连接信息\n",
    "df=pd.read_sql(\"select * from teaches\",con=con)"
   ]
  },
  {
   "cell_type": "code",
   "execution_count": null,
   "metadata": {},
   "outputs": [],
   "source": [
    "df.head()"
   ]
  },
  {
   "cell_type": "markdown",
   "metadata": {},
   "source": [
    "### panda数据结构"
   ]
  },
  {
   "cell_type": "markdown",
   "metadata": {},
   "source": [
    "DataFrame:二维数据，整个表格，部分矩表二维表格也是DataFrame\n",
    "\n",
    "Series:一维数据，行或者列，部分行列也是Series"
   ]
  },
  {
   "cell_type": "markdown",
   "metadata": {},
   "source": [
    "##### 列表创建series"
   ]
  },
  {
   "cell_type": "code",
   "execution_count": 37,
   "metadata": {},
   "outputs": [],
   "source": [
    "s1=pd.Series([1,'a',5.2,7],\n",
    "            index=['b','c','d','e'])"
   ]
  },
  {
   "cell_type": "code",
   "execution_count": 38,
   "metadata": {},
   "outputs": [
    {
     "data": {
      "text/plain": [
       "b      1\n",
       "c      a\n",
       "d    5.2\n",
       "e      7\n",
       "dtype: object"
      ]
     },
     "execution_count": 38,
     "metadata": {},
     "output_type": "execute_result"
    }
   ],
   "source": [
    "s1"
   ]
  },
  {
   "cell_type": "code",
   "execution_count": 39,
   "metadata": {},
   "outputs": [
    {
     "data": {
      "text/plain": [
       "Index(['b', 'c', 'd', 'e'], dtype='object')"
      ]
     },
     "execution_count": 39,
     "metadata": {},
     "output_type": "execute_result"
    }
   ],
   "source": [
    "s1.index"
   ]
  },
  {
   "cell_type": "markdown",
   "metadata": {},
   "source": [
    "##### 字典创建series"
   ]
  },
  {
   "cell_type": "code",
   "execution_count": 41,
   "metadata": {},
   "outputs": [],
   "source": [
    "#使用字典方式创建，可以使用字典方式访问\n",
    "dict={'a':1,\n",
    "     'b':2,\n",
    "      'c':3,\n",
    "      'd':4}"
   ]
  },
  {
   "cell_type": "code",
   "execution_count": 47,
   "metadata": {},
   "outputs": [],
   "source": [
    "s=pd.Series(dict)"
   ]
  },
  {
   "cell_type": "code",
   "execution_count": 49,
   "metadata": {},
   "outputs": [
    {
     "data": {
      "text/plain": [
       "a    1\n",
       "b    2\n",
       "c    3\n",
       "d    4\n",
       "dtype: int64"
      ]
     },
     "execution_count": 49,
     "metadata": {},
     "output_type": "execute_result"
    }
   ],
   "source": [
    "s"
   ]
  },
  {
   "cell_type": "code",
   "execution_count": 55,
   "metadata": {},
   "outputs": [
    {
     "name": "stdout",
     "output_type": "stream",
     "text": [
      "1\n",
      "<class 'numpy.int64'>\n",
      "a    1\n",
      "b    2\n",
      "dtype: int64\n",
      "<class 'pandas.core.series.Series'>\n"
     ]
    }
   ],
   "source": [
    "print(s['a'])\n",
    "print(type(s['a']))\n",
    "print(s[['a','b']])\n",
    "print(type(s[['a','b']]))"
   ]
  },
  {
   "cell_type": "markdown",
   "metadata": {},
   "source": [
    "##### 多个字典创建DataFrame"
   ]
  },
  {
   "cell_type": "code",
   "execution_count": 56,
   "metadata": {},
   "outputs": [],
   "source": [
    "dict={'a':[1,9,1],\n",
    "     'b':[2,1,7],\n",
    "      'c':[1,2,5],\n",
    "      'd':[6,3,0]}"
   ]
  },
  {
   "cell_type": "code",
   "execution_count": 64,
   "metadata": {},
   "outputs": [],
   "source": [
    "df=pd.DataFrame(dict)"
   ]
  },
  {
   "cell_type": "code",
   "execution_count": 65,
   "metadata": {},
   "outputs": [
    {
     "data": {
      "text/html": [
       "<div>\n",
       "<style scoped>\n",
       "    .dataframe tbody tr th:only-of-type {\n",
       "        vertical-align: middle;\n",
       "    }\n",
       "\n",
       "    .dataframe tbody tr th {\n",
       "        vertical-align: top;\n",
       "    }\n",
       "\n",
       "    .dataframe thead th {\n",
       "        text-align: right;\n",
       "    }\n",
       "</style>\n",
       "<table border=\"1\" class=\"dataframe\">\n",
       "  <thead>\n",
       "    <tr style=\"text-align: right;\">\n",
       "      <th></th>\n",
       "      <th>a</th>\n",
       "      <th>b</th>\n",
       "      <th>c</th>\n",
       "      <th>d</th>\n",
       "    </tr>\n",
       "  </thead>\n",
       "  <tbody>\n",
       "    <tr>\n",
       "      <th>0</th>\n",
       "      <td>1</td>\n",
       "      <td>2</td>\n",
       "      <td>1</td>\n",
       "      <td>6</td>\n",
       "    </tr>\n",
       "    <tr>\n",
       "      <th>1</th>\n",
       "      <td>9</td>\n",
       "      <td>1</td>\n",
       "      <td>2</td>\n",
       "      <td>3</td>\n",
       "    </tr>\n",
       "    <tr>\n",
       "      <th>2</th>\n",
       "      <td>1</td>\n",
       "      <td>7</td>\n",
       "      <td>5</td>\n",
       "      <td>0</td>\n",
       "    </tr>\n",
       "  </tbody>\n",
       "</table>\n",
       "</div>"
      ],
      "text/plain": [
       "   a  b  c  d\n",
       "0  1  2  1  6\n",
       "1  9  1  2  3\n",
       "2  1  7  5  0"
      ]
     },
     "execution_count": 65,
     "metadata": {},
     "output_type": "execute_result"
    }
   ],
   "source": [
    "df"
   ]
  },
  {
   "cell_type": "code",
   "execution_count": 66,
   "metadata": {},
   "outputs": [
    {
     "data": {
      "text/plain": [
       "Index(['a', 'b', 'c', 'd'], dtype='object')"
      ]
     },
     "execution_count": 66,
     "metadata": {},
     "output_type": "execute_result"
    }
   ],
   "source": [
    "df.columns"
   ]
  },
  {
   "cell_type": "code",
   "execution_count": 67,
   "metadata": {},
   "outputs": [
    {
     "data": {
      "text/plain": [
       "RangeIndex(start=0, stop=3, step=1)"
      ]
     },
     "execution_count": 67,
     "metadata": {},
     "output_type": "execute_result"
    }
   ],
   "source": [
    "df.index"
   ]
  },
  {
   "cell_type": "code",
   "execution_count": 68,
   "metadata": {},
   "outputs": [
    {
     "data": {
      "text/plain": [
       "a    int64\n",
       "b    int64\n",
       "c    int64\n",
       "d    int64\n",
       "dtype: object"
      ]
     },
     "execution_count": 68,
     "metadata": {},
     "output_type": "execute_result"
    }
   ],
   "source": [
    "df.dtypes"
   ]
  },
  {
   "cell_type": "markdown",
   "metadata": {},
   "source": [
    "###### DataFrame中查询Series"
   ]
  },
  {
   "cell_type": "code",
   "execution_count": 69,
   "metadata": {},
   "outputs": [
    {
     "data": {
      "text/plain": [
       "0    1\n",
       "1    9\n",
       "2    1\n",
       "Name: a, dtype: int64"
      ]
     },
     "execution_count": 69,
     "metadata": {},
     "output_type": "execute_result"
    }
   ],
   "source": [
    "#查询单列是Series\n",
    "df['a']"
   ]
  },
  {
   "cell_type": "code",
   "execution_count": 70,
   "metadata": {},
   "outputs": [
    {
     "data": {
      "text/html": [
       "<div>\n",
       "<style scoped>\n",
       "    .dataframe tbody tr th:only-of-type {\n",
       "        vertical-align: middle;\n",
       "    }\n",
       "\n",
       "    .dataframe tbody tr th {\n",
       "        vertical-align: top;\n",
       "    }\n",
       "\n",
       "    .dataframe thead th {\n",
       "        text-align: right;\n",
       "    }\n",
       "</style>\n",
       "<table border=\"1\" class=\"dataframe\">\n",
       "  <thead>\n",
       "    <tr style=\"text-align: right;\">\n",
       "      <th></th>\n",
       "      <th>a</th>\n",
       "      <th>d</th>\n",
       "    </tr>\n",
       "  </thead>\n",
       "  <tbody>\n",
       "    <tr>\n",
       "      <th>0</th>\n",
       "      <td>1</td>\n",
       "      <td>6</td>\n",
       "    </tr>\n",
       "    <tr>\n",
       "      <th>1</th>\n",
       "      <td>9</td>\n",
       "      <td>3</td>\n",
       "    </tr>\n",
       "    <tr>\n",
       "      <th>2</th>\n",
       "      <td>1</td>\n",
       "      <td>0</td>\n",
       "    </tr>\n",
       "  </tbody>\n",
       "</table>\n",
       "</div>"
      ],
      "text/plain": [
       "   a  d\n",
       "0  1  6\n",
       "1  9  3\n",
       "2  1  0"
      ]
     },
     "execution_count": 70,
     "metadata": {},
     "output_type": "execute_result"
    }
   ],
   "source": [
    "#查询多列（行）也是DataFrame\n",
    "df[['a','d']]"
   ]
  },
  {
   "cell_type": "code",
   "execution_count": 71,
   "metadata": {},
   "outputs": [
    {
     "data": {
      "text/plain": [
       "a    9\n",
       "b    1\n",
       "c    2\n",
       "d    3\n",
       "Name: 1, dtype: int64"
      ]
     },
     "execution_count": 71,
     "metadata": {},
     "output_type": "execute_result"
    }
   ],
   "source": [
    "#查询一行\n",
    "df.loc[1]"
   ]
  },
  {
   "cell_type": "code",
   "execution_count": 72,
   "metadata": {},
   "outputs": [
    {
     "data": {
      "text/html": [
       "<div>\n",
       "<style scoped>\n",
       "    .dataframe tbody tr th:only-of-type {\n",
       "        vertical-align: middle;\n",
       "    }\n",
       "\n",
       "    .dataframe tbody tr th {\n",
       "        vertical-align: top;\n",
       "    }\n",
       "\n",
       "    .dataframe thead th {\n",
       "        text-align: right;\n",
       "    }\n",
       "</style>\n",
       "<table border=\"1\" class=\"dataframe\">\n",
       "  <thead>\n",
       "    <tr style=\"text-align: right;\">\n",
       "      <th></th>\n",
       "      <th>a</th>\n",
       "      <th>b</th>\n",
       "      <th>c</th>\n",
       "      <th>d</th>\n",
       "    </tr>\n",
       "  </thead>\n",
       "  <tbody>\n",
       "    <tr>\n",
       "      <th>1</th>\n",
       "      <td>9</td>\n",
       "      <td>1</td>\n",
       "      <td>2</td>\n",
       "      <td>3</td>\n",
       "    </tr>\n",
       "    <tr>\n",
       "      <th>2</th>\n",
       "      <td>1</td>\n",
       "      <td>7</td>\n",
       "      <td>5</td>\n",
       "      <td>0</td>\n",
       "    </tr>\n",
       "  </tbody>\n",
       "</table>\n",
       "</div>"
      ],
      "text/plain": [
       "   a  b  c  d\n",
       "1  9  1  2  3\n",
       "2  1  7  5  0"
      ]
     },
     "execution_count": 72,
     "metadata": {},
     "output_type": "execute_result"
    }
   ],
   "source": [
    "#查询多行\n",
    "df.loc[1:3]"
   ]
  },
  {
   "cell_type": "markdown",
   "metadata": {},
   "source": [
    "源代码和相应数据下载请点击 https://github.com/MiaoChenglin125/Data-Acquisition"
   ]
  }
 ],
 "metadata": {
  "kernelspec": {
   "display_name": "Python 3",
   "language": "python",
   "name": "python3"
  },
  "language_info": {
   "codemirror_mode": {
    "name": "ipython",
    "version": 3
   },
   "file_extension": ".py",
   "mimetype": "text/x-python",
   "name": "python",
   "nbconvert_exporter": "python",
   "pygments_lexer": "ipython3",
   "version": "3.8.3"
  }
 },
 "nbformat": 4,
 "nbformat_minor": 4
}
